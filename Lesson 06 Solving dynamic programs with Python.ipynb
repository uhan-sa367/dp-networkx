{
 "cells": [
  {
   "cell_type": "markdown",
   "metadata": {
    "hide_cell": true
   },
   "source": [
    "**SA367 &#x25aa; Mathematical Models for Decision Making &#x25aa; Spring 2022 &#x25aa; Uhan**"
   ]
  },
  {
   "cell_type": "markdown",
   "metadata": {
    "hide_cell": true
   },
   "source": [
    "# Lesson 6. Solving Dynamic Programs with Python"
   ]
  },
  {
   "cell_type": "markdown",
   "metadata": {},
   "source": [
    "## Overview"
   ]
  },
  {
   "cell_type": "markdown",
   "metadata": {},
   "source": [
    "* In this lesson, we'll revisit a few examples of dynamic programs and solve them with Python &mdash; in particular, NetworkX"
   ]
  },
  {
   "cell_type": "markdown",
   "metadata": {},
   "source": [
    "## The knapsack problem, revisited"
   ]
  },
  {
   "cell_type": "markdown",
   "metadata": {},
   "source": [
    "You are a thief deciding which precious metals to steal from a vault:\n",
    "                                  \n",
    "|    | Metal    | Weight (kg) | Value |\n",
    "|:---|:---------|:-----------:|:-----:|\n",
    "| 1  | Gold     | 3           | 11    |\n",
    "| 2  | Silver   | 2           | 7     |\n",
    "| 3  | Platinum | 4           | 12    |\n",
    "                                  \n",
    "You have a knapsack that can hold at most 8 kg. If you decide to take a particular metal, you must take all of it. Which items should you take to maximize the value of your theft?"
   ]
  },
  {
   "cell_type": "markdown",
   "metadata": {},
   "source": [
    "* Recall that we formulated this problem as a dynamic program with the following longest path representation:\n",
    "    - Stage $t$ represents the decision to take item $t$ ($t = 1, 2, 3$), or the end of the decision-making process ($t = 4$)\n",
    "    - Node $t_n$ represents having $n$ kgs left in knapsack at stage $t$ ($n = 0, 1, \\dots, 8$)"
   ]
  },
  {
   "cell_type": "markdown",
   "metadata": {},
   "source": [
    "![DP for knapsack example](img/knapsack.png)"
   ]
  },
  {
   "cell_type": "markdown",
   "metadata": {},
   "source": [
    "* We know how to solve shortest/longest path problems using NetworkX, so we can apply the same ideas here\n",
    "\n",
    "* There is a Python data structure that makes this a little easier..."
   ]
  },
  {
   "cell_type": "markdown",
   "metadata": {},
   "source": [
    "### Tuples"
   ]
  },
  {
   "cell_type": "markdown",
   "metadata": {},
   "source": [
    "* A __tuple__ is like a list, except once it's been defined, it cannot be changed\n",
    "\n",
    "* A tuple is written as a sequence of comma-separated items between _round_ brackets\n",
    "\n",
    "* For example, we can define a tuple corresponding to taking silver with 5 kg left in the knapsack, like this:"
   ]
  },
  {
   "cell_type": "code",
   "execution_count": null,
   "metadata": {},
   "outputs": [],
   "source": []
  },
  {
   "cell_type": "code",
   "execution_count": 1,
   "metadata": {
    "tags": [
     "solution"
    ]
   },
   "outputs": [],
   "source": [
    "# Solution\n",
    "stage = (2, 5)"
   ]
  },
  {
   "cell_type": "markdown",
   "metadata": {},
   "source": [
    "* Tuples are ideal for things like names of nodes &mdash; things that you want to make permanent and  not accidentally change"
   ]
  },
  {
   "cell_type": "markdown",
   "metadata": {},
   "source": [
    "### Back to the knapsack problem..."
   ]
  },
  {
   "cell_type": "markdown",
   "metadata": {},
   "source": [
    "* We can use a tuple to represent the name of each node in our dynamic program, since each node's name has two distinct parts: the stage and the state\n",
    "\n",
    "* Before we do anything, we need to import `networkx` and `bellmanford`:"
   ]
  },
  {
   "cell_type": "code",
   "execution_count": 2,
   "metadata": {},
   "outputs": [],
   "source": [
    "import networkx as nx\n",
    "import bellmanford as bf"
   ]
  },
  {
   "cell_type": "markdown",
   "metadata": {},
   "source": [
    "* Let's begin by creating an empty graph:"
   ]
  },
  {
   "cell_type": "code",
   "execution_count": null,
   "metadata": {},
   "outputs": [],
   "source": []
  },
  {
   "cell_type": "code",
   "execution_count": 3,
   "metadata": {
    "tags": [
     "solution"
    ]
   },
   "outputs": [],
   "source": [
    "# Solution\n",
    "G = nx.DiGraph()"
   ]
  },
  {
   "cell_type": "markdown",
   "metadata": {},
   "source": [
    "* Next, let's add the stage-state nodes to the graph, using `for` loops\n",
    "    - Remember that `range(a, b)` iterates over the integers `a, a + 1, ..., b - 1`"
   ]
  },
  {
   "cell_type": "code",
   "execution_count": null,
   "metadata": {},
   "outputs": [],
   "source": []
  },
  {
   "cell_type": "code",
   "execution_count": 4,
   "metadata": {
    "tags": [
     "solution"
    ]
   },
   "outputs": [],
   "source": [
    "# Solution\n",
    "for t in range(1, 5):\n",
    "    for n in range(0, 9):\n",
    "        G.add_node((t, n))"
   ]
  },
  {
   "cell_type": "markdown",
   "metadata": {},
   "source": [
    "* We also need to add the special \"end\" node:"
   ]
  },
  {
   "cell_type": "code",
   "execution_count": null,
   "metadata": {},
   "outputs": [],
   "source": []
  },
  {
   "cell_type": "code",
   "execution_count": 5,
   "metadata": {
    "tags": [
     "solution"
    ]
   },
   "outputs": [],
   "source": [
    "# Solution\n",
    "G.add_node(\"end\")"
   ]
  },
  {
   "cell_type": "markdown",
   "metadata": {},
   "source": [
    "* Now we need to add the edges\n",
    "\n",
    "* There are a lot of them, so we'll want to use some for loops\n",
    "\n",
    "* The best way to use for loops depends on the shortest/longest path representation of the DP\n",
    "\n",
    "* For example, looking above, we can add all the red edges of length 0 &mdash; corresponding to not taking the item &mdash; in one fell swoop, like this:"
   ]
  },
  {
   "cell_type": "code",
   "execution_count": null,
   "metadata": {},
   "outputs": [],
   "source": []
  },
  {
   "cell_type": "code",
   "execution_count": 6,
   "metadata": {
    "tags": [
     "solution"
    ]
   },
   "outputs": [],
   "source": [
    "# Solution\n",
    "for t in range(1, 4):\n",
    "    for n in range(0, 9):\n",
    "        G.add_edge((t, n), (t + 1, n), length=0)"
   ]
  },
  {
   "cell_type": "markdown",
   "metadata": {},
   "source": [
    "* Next, we can add the green edges of length 11, corresponding to taking item 1 (gold)\n",
    "    - Don't forget our DP is a _longest_ path problem!"
   ]
  },
  {
   "cell_type": "code",
   "execution_count": null,
   "metadata": {},
   "outputs": [],
   "source": []
  },
  {
   "cell_type": "code",
   "execution_count": 7,
   "metadata": {},
   "outputs": [],
   "source": [
    "# Solution\n",
    "for n in range(3, 9):\n",
    "    G.add_edge((1, n), (2, n - 3), length=-11)"
   ]
  },
  {
   "cell_type": "markdown",
   "metadata": {},
   "source": [
    "* We can do something similar for the light blue edges of length 7, corresponding to taking item 2 (silver):"
   ]
  },
  {
   "cell_type": "code",
   "execution_count": null,
   "metadata": {},
   "outputs": [],
   "source": []
  },
  {
   "cell_type": "code",
   "execution_count": 8,
   "metadata": {
    "tags": [
     "solution"
    ]
   },
   "outputs": [],
   "source": [
    "# Solution\n",
    "for n in range(2, 9):\n",
    "    G.add_edge((2, n), (3, n - 2), length=-7)"
   ]
  },
  {
   "cell_type": "markdown",
   "metadata": {},
   "source": [
    "* In addition, we can do something similar for the orange edges of length 12, corresponding to taking item 3 (platinum):"
   ]
  },
  {
   "cell_type": "code",
   "execution_count": null,
   "metadata": {},
   "outputs": [],
   "source": []
  },
  {
   "cell_type": "code",
   "execution_count": 9,
   "metadata": {
    "tags": [
     "solution"
    ]
   },
   "outputs": [],
   "source": [
    "# Solution\n",
    "for n in range(4, 9):\n",
    "    G.add_edge((3, n), (4, n - 4), length=-12)"
   ]
  },
  {
   "cell_type": "markdown",
   "metadata": {},
   "source": [
    "* Finally, we can add the edges from the last stage nodes to the special \"end\" node:"
   ]
  },
  {
   "cell_type": "code",
   "execution_count": null,
   "metadata": {},
   "outputs": [],
   "source": []
  },
  {
   "cell_type": "code",
   "execution_count": 10,
   "metadata": {
    "tags": [
     "solution"
    ]
   },
   "outputs": [],
   "source": [
    "# Solution\n",
    "for n in range(0, 9):\n",
    "    G.add_edge((4, n), \"end\", length=0)"
   ]
  },
  {
   "cell_type": "markdown",
   "metadata": {},
   "source": [
    "* Now, we can solve the dynamic program using the Bellman-Ford algorithm, just as before:"
   ]
  },
  {
   "cell_type": "code",
   "execution_count": null,
   "metadata": {},
   "outputs": [],
   "source": []
  },
  {
   "cell_type": "code",
   "execution_count": 11,
   "metadata": {
    "tags": [
     "solution"
    ]
   },
   "outputs": [
    {
     "name": "stdout",
     "output_type": "stream",
     "text": [
      "Shortest path length: -23\n",
      "Shortest path: [(1, 8), (2, 5), (3, 5), (4, 1), 'end']\n"
     ]
    }
   ],
   "source": [
    "# Solution\n",
    "length, nodes, negative_cycle = bf.bellman_ford(G, source=(1, 8), target=\"end\", weight=\"length\")\n",
    "print(f\"Shortest path length: {length}\")\n",
    "print(f\"Shortest path: {nodes}\")"
   ]
  },
  {
   "cell_type": "markdown",
   "metadata": {},
   "source": [
    "### Interpreting the output"
   ]
  },
  {
   "cell_type": "markdown",
   "metadata": {},
   "source": [
    "* What is the maximum value we can carry in the knapsack?"
   ]
  },
  {
   "cell_type": "markdown",
   "metadata": {},
   "source": [
    "_Write your notes here. Double-click to edit._"
   ]
  },
  {
   "cell_type": "markdown",
   "metadata": {
    "tags": [
     "solution"
    ]
   },
   "source": [
    "_Solution._ \n",
    "The maximum value we can carry in the knapsack is 23, the negative of the shortest path length."
   ]
  },
  {
   "cell_type": "markdown",
   "metadata": {},
   "source": [
    "* Which items should we take to obtain this maximum value?"
   ]
  },
  {
   "cell_type": "markdown",
   "metadata": {},
   "source": [
    "_Write your notes here. Double-click to edit._"
   ]
  },
  {
   "cell_type": "markdown",
   "metadata": {
    "tags": [
     "solution"
    ]
   },
   "source": [
    "_Solution._ According to the edges in the shortest path, we should take the gold and platinum, but not the silver."
   ]
  },
  {
   "cell_type": "markdown",
   "metadata": {},
   "source": [
    "## Practice makes perfect &mdash; on your own"
   ]
  },
  {
   "cell_type": "markdown",
   "metadata": {},
   "source": [
    "* Here are three more examples of dynamic programs we modeled in a previous lesson. Solve them using NetworkX and interpret the output."
   ]
  },
  {
   "cell_type": "markdown",
   "metadata": {},
   "source": [
    "### Assigning patrol cars to precincts"
   ]
  },
  {
   "cell_type": "markdown",
   "metadata": {},
   "source": [
    "<!-- Winston and Venkataramanan Problem 13.4.4 -->\n",
    "The Simplexville Police Department wants to determine how to assign patrol cars to each precinct in Simplexville. Each precinct can be assigned 0, 1, or 2 patrol cars. The number of crimes in each precinct depends on the number of patrol cars assigned to each precinct:\n",
    "                                      \n",
    "| Precinct | 0 patrol cars | 1 patrol cars | 2 patrol cars | \n",
    "| :------: | :-----------: | :-----------: | :-----------: | \n",
    "| 1 | 14 | 10 | 7 |\n",
    "| 2 | 25 | 19 | 17 |\n",
    "| 3 | 20 | 14 | 11 |\n",
    "                                      \n",
    "The department has 5 patrol cars. The department's goal is to minimize the total number of crimes across all 3 precincts. \n",
    "\n",
    "* We formulated this problem as a dynamic program with the following shortest path representation:\n",
    "    - Stage $t$ represents the decision to assign patrol cars to precinct $t$ $(t = 1, 2, 3)$ or the end of the decision-making process ($t = 4$).\n",
    "    - Node $t_n$ represents having $n$ patrol cars left at stage $t$ ($n = 0, 1, \\dots, 5$)."
   ]
  },
  {
   "cell_type": "markdown",
   "metadata": {},
   "source": [
    "![DP for patrol car example](img/patrol.png)"
   ]
  },
  {
   "cell_type": "markdown",
   "metadata": {},
   "source": [
    "Solve this dynamic program using NetworkX."
   ]
  },
  {
   "cell_type": "code",
   "execution_count": null,
   "metadata": {},
   "outputs": [],
   "source": []
  },
  {
   "cell_type": "code",
   "execution_count": 12,
   "metadata": {
    "tags": [
     "solution"
    ]
   },
   "outputs": [
    {
     "name": "stdout",
     "output_type": "stream",
     "text": [
      "Shortest path length: 37\n",
      "Shortest path: [(1, 5), (2, 3), (3, 2), (4, 0), 'end']\n"
     ]
    }
   ],
   "source": [
    "# Solution\n",
    "# Create empty graph\n",
    "G = nx.DiGraph()\n",
    "\n",
    "# Add the stage-state nodes\n",
    "for t in range(1, 5):\n",
    "    for n in range(0, 6):\n",
    "        G.add_node((t, n))\n",
    "\n",
    "# Add the end node\n",
    "G.add_node(\"end\")\n",
    "\n",
    "# Add edges corresponding to adding 0 patrol cars - red edges\n",
    "for n in range(0, 6):\n",
    "    # precinct 1: length 14\n",
    "    G.add_edge((1, n), (2, n), length=14)\n",
    "    \n",
    "    # precinct 2: length 25\n",
    "    G.add_edge((2, n), (3, n), length=25)\n",
    "    \n",
    "    # precinct 3: length 20\n",
    "    G.add_edge((3, n), (4, n), length=20)\n",
    "\n",
    "# Add edges corresponding to adding 1 patrol car - orange edges\n",
    "for n in range(1, 6):\n",
    "    # precinct 1: length 10\n",
    "    G.add_edge((1, n), (2, n - 1), length=10)\n",
    "\n",
    "    # precinct 2: length 19\n",
    "    G.add_edge((2, n), (3, n - 1), length=19)\n",
    "    \n",
    "    # precinct 3: length 14\n",
    "    G.add_edge((3, n), (4, n - 1), length=14)\n",
    "    \n",
    "# Add edges corresponding to adding 2 patrol cars - green edges\n",
    "for n in range(2, 6):\n",
    "    # precinct 1: length 7\n",
    "    G.add_edge((1, n), (2, n - 2), length=7)\n",
    "    \n",
    "    # precinct 2: length 17    \n",
    "    G.add_edge((2, n), (3, n - 2), length=17)    \n",
    "\n",
    "    # precinct 3: length 11 \n",
    "    G.add_edge((3, n), (4, n - 2), length=11)\n",
    "    \n",
    "# Add edges from last stage to the end node\n",
    "for n in range(0, 6):\n",
    "    G.add_edge((4, n), \"end\", length=0)\n",
    "    \n",
    "# Solve DP by solving its shortest path representation using Bellman-Ford\n",
    "length, nodes, negative_cycle = bf.bellman_ford(G, source=(1, 5), target=\"end\", weight=\"length\")\n",
    "print(f\"Shortest path length: {length}\")\n",
    "print(f\"Shortest path: {nodes}\")"
   ]
  },
  {
   "cell_type": "markdown",
   "metadata": {},
   "source": [
    "_Interpret the output of the DP here. Double-click to edit._"
   ]
  },
  {
   "cell_type": "markdown",
   "metadata": {
    "tags": [
     "solution"
    ]
   },
   "source": [
    "_Solution &mdash; Interpretation._\n",
    "\n",
    "* The minimum number of crimes as a result of assigning the 5 patrol cars to the 3 precincts is 37, the shortest path length.\n",
    "\n",
    "* To achieve this minimum number of crimes, assign 2 patrol cars to precinct 1, 1 patrol car to precinct 2, and 2 patrol cars to precinct 3."
   ]
  },
  {
   "cell_type": "markdown",
   "metadata": {},
   "source": [
    "### Inventory management"
   ]
  },
  {
   "cell_type": "markdown",
   "metadata": {},
   "source": [
    "<!-- Rardin Exercise 9-26 -->\n",
    "The Dijkstra Brewing Company is planning production of its new limited run beer, Primal Pilsner. The company must supply 1 batch next month, then 2 and 4 in successive months. Each month in which the company produces the beer requires a factory setup cost of \\\\$5,000. Each batch of beer costs \\\\$2,000 to produce. Batches can be held in inventory at a cost of \\\\$1,000 per batch per month. Capacity limitations allow a maximum of 3 batches to be produced during each month. In addition, the size of the company's warehouse restricts the ending inventory for each month to at most 3 batches. The company has no initial inventory.\n",
    "  \n",
    "The company wants to find a production plan that will meet all demands on time and minimizes its total production and holding costs over the next 3 months. \n",
    "\n",
    "* We formulated this problem as a dynamic program with the following shortest path representation:\n",
    "    - Stage $t$ represents deciding to produce in month $t$ ($t = 1, 2, 3$), or the end of the decision-making process ($t = 4$).\n",
    "    - Node $t_n$ represents having $n$ batches in inventory at the end of stage $t$ ($n = 0, 1, 2, 3$)."
   ]
  },
  {
   "cell_type": "markdown",
   "metadata": {},
   "source": [
    "![DP for inventory management example](img/inventory.png)"
   ]
  },
  {
   "cell_type": "markdown",
   "metadata": {},
   "source": [
    "Solve this dynamic program using NetworkX."
   ]
  },
  {
   "cell_type": "code",
   "execution_count": null,
   "metadata": {},
   "outputs": [],
   "source": []
  },
  {
   "cell_type": "code",
   "execution_count": 12,
   "metadata": {
    "tags": [
     "solution"
    ]
   },
   "outputs": [
    {
     "name": "stdout",
     "output_type": "stream",
     "text": [
      "Shortest path length: 30\n",
      "Shortest path: [(1, 0), (2, 0), (3, 1), (4, 0), 'end']\n"
     ]
    }
   ],
   "source": [
    "# Solution\n",
    "# Create empty graph\n",
    "G = nx.DiGraph()\n",
    "\n",
    "# Add the stage-state nodes\n",
    "for t in range(1, 5):\n",
    "    for n in range(0, 3):\n",
    "        G.add_node((t, n))\n",
    "\n",
    "# Add the end node\n",
    "G.add_node(\"end\")\n",
    "\n",
    "# Add edges corresponding to production in month 1\n",
    "# 0 batches: green edges\n",
    "for n in range(1, 4):\n",
    "    G.add_edge((1, n), (2, n - 1), length=1*(n - 1))\n",
    "\n",
    "# 1 batch: blue edges\n",
    "for n in range(0, 4):\n",
    "    G.add_edge((1, n), (2, n), length=5 + 2*(1) + 1*(n))\n",
    "\n",
    "# 2 batches: orange edges\n",
    "for n in range(0, 3):\n",
    "    G.add_edge((1, n), (2, n + 1), length=5 + 2*(2) + 1*(n + 1))\n",
    "\n",
    "# 3 batches: purple edges\n",
    "for n in range(0, 2):\n",
    "    G.add_edge((1, n), (2, n + 2), length=5 + 2*(3) + 1*(n + 2))\n",
    "    \n",
    "# Add edges corresponding to production in month 2\n",
    "# 0 batches: green edges\n",
    "for n in range(2, 4):\n",
    "    G.add_edge((2, n), (3, n - 2), length=1*(n - 2))\n",
    "\n",
    "# 1 batch: blue edges\n",
    "for n in range(1, 4):\n",
    "    G.add_edge((2, n), (3, n - 1), length=5 + 2*(1) + 1*(n - 1))\n",
    "\n",
    "# 2 batches: orange edges\n",
    "for n in range(0, 4):\n",
    "    G.add_edge((2, n), (3, n), length=5 + 2*(2) + 1*(n))\n",
    "\n",
    "# 3 batches: purple edges\n",
    "for n in range(0, 3):\n",
    "    G.add_edge((2, n), (3, n + 1), length=5 + 2*(3) + 1*(n + 1))\n",
    "    \n",
    "# Add edges corresponding to production in month 3\n",
    "# 0 batches: not possible!\n",
    "\n",
    "# 1 batch: blue edges\n",
    "for n in range(3, 4):\n",
    "    G.add_edge((3, n), (4, n - 3), length=5 + 2*(1) + 1*(n - 3))\n",
    "\n",
    "# 2 batches: orange edges\n",
    "for n in range(2, 4):\n",
    "    G.add_edge((3, n), (4, n - 2), length=5 + 2*(2) + 1*(n - 2))\n",
    "\n",
    "# 3 batches: purple edges\n",
    "for n in range(1, 4):\n",
    "    G.add_edge((3, n), (4, n - 1), length=5 + 2*(3) + 1*(n - 1))\n",
    "  \n",
    "# Add edges from last stage to the end node\n",
    "for n in range(0, 4):\n",
    "    G.add_edge((4, n), \"end\", length=0)\n",
    "    \n",
    "# Solve DP by solving its shortest path representation using Bellman-Ford\n",
    "length, nodes, negative_cycle = bf.bellman_ford(G, source=(1, 0), target=\"end\", weight=\"length\")\n",
    "print(f\"Shortest path length: {length}\")\n",
    "print(f\"Shortest path: {nodes}\")"
   ]
  },
  {
   "cell_type": "markdown",
   "metadata": {},
   "source": [
    "_Interpret the output of the DP here. Double-click to edit._"
   ]
  },
  {
   "cell_type": "markdown",
   "metadata": {
    "tags": [
     "solution"
    ]
   },
   "source": [
    "_Solution &mdash; Interpretation._\n",
    "\n",
    "* The minimum total production and holding cost over the next 3 months is 30.\n",
    "\n",
    "* To achieve this minimum cost, the company should produce 1 batch in month 1, 3 batches in month 2, and 3 batches in month 3."
   ]
  },
  {
   "cell_type": "markdown",
   "metadata": {},
   "source": [
    "### Study time"
   ]
  },
  {
   "cell_type": "markdown",
   "metadata": {},
   "source": [
    "To graduate from Simplexville University, Angie needs to pass at least one of\n",
    "the three courses she is taking this semester: literature, finance, and\n",
    "statistics. Angie's busy schedule of extracurricular activities allows her to\n",
    "spend only 4 hours per week on studying. Angie's probability of passing each\n",
    "course depends on the number of hours she spends studying for the course:\n",
    "\n",
    "| Hours of studying per week | Literature | Finance | Statistics |\n",
    "|:--------------------------:|:----------:|:-------:|:----------:|\n",
    "| 0                          | 0.20       | 0.25    | 0.10       |\n",
    "| 1                          | 0.30       | 0.30    | 0.30       |\n",
    "| 2                          | 0.35       | 0.33    | 0.40       |\n",
    "| 3                          | 0.38       | 0.35    | 0.44       |\n",
    "| 4                          | 0.40       | 0.38    | 0.50       |\n",
    "\n",
    "Angie wants to maximize the probability that she passes at least one of these\n",
    "three courses. Formulate this problem as a dynamic program by giving its\n",
    "shortest/longest path representation.\n",
    "\n",
    "- We formulated this problem as a dynamic program with the following shortest path representation:\n",
    "    - Stage $t$ represents assigned time to course $t$ ($t = 1, 2, 3$) or the end of the decision-making process ($t = 4$).\n",
    "    - Node $t_n$ represents having $n$ hours left to assign at stage $t$ ($n = 0, 1, 2, 3, 4$).\n",
    "\n",
    "\n"
   ]
  },
  {
   "cell_type": "markdown",
   "metadata": {},
   "source": [
    "_Hint._ You can import the natural exponent and logarithm functions from the `math` library:\n",
    "\n",
    "```python\n",
    "from math import exp, log\n",
    "```"
   ]
  },
  {
   "cell_type": "markdown",
   "metadata": {},
   "source": [
    "![DP for study time example](img/study.png)"
   ]
  },
  {
   "cell_type": "markdown",
   "metadata": {},
   "source": [
    "Solve this dynamic program using NetworkX."
   ]
  },
  {
   "cell_type": "code",
   "execution_count": null,
   "metadata": {},
   "outputs": [],
   "source": []
  },
  {
   "cell_type": "code",
   "execution_count": 13,
   "metadata": {
    "tags": [
     "solution"
    ]
   },
   "outputs": [
    {
     "name": "stdout",
     "output_type": "stream",
     "text": [
      "Shortest path length: -1.2292906123102258\n",
      "Shortest path: [(1, 4), (2, 2), (3, 2), (4, 0), 'end']\n",
      "Minimum probability of failing all 3 courses: 0.2925\n"
     ]
    }
   ],
   "source": [
    "# Solution\n",
    "# Import natural exponent and logarithm functions from math library\n",
    "from math import exp, log\n",
    "\n",
    "# Create empty graph\n",
    "G = nx.DiGraph()\n",
    "\n",
    "# Add the stage-state nodes\n",
    "for t in range(1, 5):\n",
    "    for n in range(0, 5):\n",
    "        G.add_node((t, n))\n",
    "\n",
    "# Add the end node\n",
    "G.add_node(\"end\")\n",
    "\n",
    "# Create a dictionary of edge lengths\n",
    "# Each key is a tuple: (course, hours)\n",
    "edge_lengths = {\n",
    "    (1, 0): log(0.80),\n",
    "    (1, 1): log(0.70),\n",
    "    (1, 2): log(0.65),\n",
    "    (1, 3): log(0.62),\n",
    "    (1, 4): log(0.60),\n",
    "    (2, 0): log(0.75),\n",
    "    (2, 1): log(0.70),\n",
    "    (2, 2): log(0.67),\n",
    "    (2, 3): log(0.65),\n",
    "    (2, 4): log(0.62),\n",
    "    (3, 0): log(0.90),\n",
    "    (3, 1): log(0.70),\n",
    "    (3, 2): log(0.60),\n",
    "    (3, 3): log(0.56),\n",
    "    (3, 4): log(0.50)\n",
    "}\n",
    "\n",
    "# Add edges from each stage t and state n\n",
    "for t in range(1, 4):\n",
    "    for n in range(0, 5):\n",
    "        for m in range(0, 5):  # m = number of hours to assign\n",
    "            if m <= n:  # Check if number of hours to assign <= number of hours left\n",
    "                G.add_edge((t, n), (t + 1, n - m), length=edge_lengths[t, m])\n",
    "\n",
    "# Add edges from last stage to end node\n",
    "for n in range(0, 5):\n",
    "    G.add_edge((4, n), \"end\", length=0)\n",
    "\n",
    "# Solve DP by solving its shortest path representation using Bellman-Ford\n",
    "length, nodes, negative_cycle = bf.bellman_ford(G, source=(1, 4), target=\"end\", weight=\"length\")\n",
    "print(f\"Shortest path length: {length}\")\n",
    "print(f\"Shortest path: {nodes}\")\n",
    "\n",
    "# Convert shortest path length using inverse log (exp)\n",
    "print(f\"Minimum probability of failing all 3 courses: {exp(length)}\")"
   ]
  },
  {
   "cell_type": "markdown",
   "metadata": {},
   "source": [
    "_Interpret the output of the DP here. Double-click to edit._"
   ]
  },
  {
   "cell_type": "markdown",
   "metadata": {
    "tags": [
     "solution"
    ]
   },
   "source": [
    "_Solution &mdash; Interpretation._\n",
    "\n",
    "* The minimum probability of failing all 3 courses is $0.2925$. Equivalently, the maximum probability of passing at least 1 course is $1 - 0.2925 = 0.7075$.\n",
    "\n",
    "* To achieve this minimum probability of failing all 3 courses, Angie should assign 2 hours/week to Literature (Course 1) and 2 hours/week to Statistics (Course 3)."
   ]
  },
  {
   "cell_type": "markdown",
   "metadata": {},
   "source": [
    "---"
   ]
  },
  {
   "cell_type": "markdown",
   "metadata": {},
   "source": [
    "## Problems"
   ]
  },
  {
   "cell_type": "markdown",
   "metadata": {},
   "source": [
    "### Problem 1 (Dynamic Distillery, revisited)"
   ]
  },
  {
   "cell_type": "markdown",
   "metadata": {},
   "source": [
    "You have been put in charge of launching Dynamic Distillery's new bourbon whiskey. There are 4 nonoverlapping phases: research, development, manufacturing system design, and initial production and distribution. Each phase can conducted the two speeds: normal or priority. The times required (in months) to complete each phases at the two speeds are:\n",
    "\n",
    "| Level    | Research | Development | Manufacturing System Design | Initial Production and Distribution |\n",
    "|:---------|:--------:|:-----------:|:---------------------------:|:-----------------------------------:|\n",
    "| Normal   | 4        | 3           | 5                           | 2                                   |\n",
    "| Priority | 2        | 2           | 3                           | 1                                   |\n",
    "\n",
    "The costs (in millions of \\$) of complete each phase at the two speeds are:\n",
    "\n",
    "| Level    | Research | Development | Manufacturing System Design | Initial Production and Distribution |\n",
    "|:---------|:--------:|:-----------:|:---------------------------:|:-----------------------------------:|\n",
    "| Normal   | 2        | 2           | 3                           | 1                                   |\n",
    "| Priority | 3        | 3           | 4                           | 2                                   |\n",
    "\n",
    "You have been given \\$10 million dollars to execute the launch as quickly as possible. \n",
    "\n",
    "Once upon a time, for homework, you formulated this problem as a dynamic program by giving its shortest/longest path representation.\n",
    "\n",
    "1. Solve your dynamic program using NetworkX.\n",
    "2. Interpret the output of your dynamic program."
   ]
  },
  {
   "cell_type": "code",
   "execution_count": null,
   "metadata": {},
   "outputs": [],
   "source": []
  },
  {
   "cell_type": "code",
   "execution_count": 15,
   "metadata": {
    "tags": [
     "solution"
    ]
   },
   "outputs": [
    {
     "name": "stdout",
     "output_type": "stream",
     "text": [
      "Negative cycle? False\n",
      "Shortest path length = 10\n",
      "Shortest path = [(1, 10), (2, 7), (3, 5), (4, 1), (5, 0), 'end']\n"
     ]
    }
   ],
   "source": [
    "# Solution\n",
    "# Create empty graph\n",
    "G = nx.DiGraph()\n",
    "\n",
    "# Add stage-state nodes\n",
    "for t in range(1, 6):\n",
    "    for n in range(0, 11):\n",
    "        G.add_node((t, n))\n",
    "\n",
    "# Add \"end\" node\n",
    "G.add_node(\"end\")\n",
    "\n",
    "# Stage 1 at normal speed\n",
    "for n in range(2, 11):\n",
    "    G.add_edge((1, n), (2, n - 2), length=4)\n",
    "\n",
    "# Stage 1 at priority speed\n",
    "for n in range(3, 11):\n",
    "    G.add_edge((1, n), (2, n - 3), length=2)\n",
    "\n",
    "# Stage 2 at normal speed\n",
    "for n in range(2, 11):\n",
    "    G.add_edge((2, n), (3, n - 2), length=3)\n",
    "\n",
    "# Stage 2 at priority speed\n",
    "for n in range(3, 11):\n",
    "    G.add_edge((2, n), (3, n - 3), length=2)\n",
    "\n",
    "# Stage 3 at normal speed\n",
    "for n in range(3, 11):\n",
    "    G.add_edge((3, n), (4, n - 3), length=5)\n",
    "\n",
    "# Stage 3 at priority speed\n",
    "for n in range(4, 11):\n",
    "    G.add_edge((3, n), (4, n - 4), length=3)\n",
    "\n",
    "# Stage 4 at normal speed\n",
    "for n in range(1, 11):\n",
    "    G.add_edge((4, n), (5, n - 1), length=2)\n",
    "\n",
    "# Stage 4 at priority speed\n",
    "for n in range(2, 10):\n",
    "    G.add_edge((4, n), (5, n - 2), length=1)\n",
    "\n",
    "# Add edges from last stage to end node\n",
    "for n in range(0, 11):\n",
    "    G.add_edge((5, n), \"end\", length=0)\n",
    "\n",
    "# Solve shortest path problem\n",
    "length, nodes, negative_cycle = bf.bellman_ford(G, source=(1, 10), target=\"end\", weight=\"length\")\n",
    "print(f\"Negative cycle? {negative_cycle}\")\n",
    "print(f\"Shortest path length = {length}\")\n",
    "print(f\"Shortest path = {nodes}\")"
   ]
  },
  {
   "cell_type": "markdown",
   "metadata": {},
   "source": [
    "_Interpret the output of the DP here. Double-click to edit._"
   ]
  },
  {
   "cell_type": "markdown",
   "metadata": {
    "tags": [
     "solution"
    ]
   },
   "source": [
    "_Solution &mdash; Interpretation._\n",
    "\n",
    "* The earliest the launch can happen is in 10 weeks, which is the shortest path length in this case.\n",
    "\n",
    "* In order to launch in 10 weeks, research and manufacturing system design should be done at the priority speed, while development and inital production and distribution should be done at normal speed."
   ]
  },
  {
   "cell_type": "markdown",
   "metadata": {},
   "source": [
    "### Problem 2 (Pear Computers, revisited)"
   ]
  },
  {
   "cell_type": "markdown",
   "metadata": {},
   "source": [
    "Pear Computers has a contract to deliver the following number of laptop computers during the next three months:\n",
    "\n",
    "|                           | Month 1 | Month 2 | Month 3 |\n",
    "|:--------------------------|:-------:|:-------:|:-------:|\n",
    "| Laptop computers required | 200     | 300     | 200     |\n",
    "\n",
    "For each laptop produced during months 1 and 2, a \\\\$100 cost is incurred; for each laptop produced during month 3, a \\\\$120 cost is incurred. Each month in which the company produces laptops requires a factory setup cost of \\\\$2,500. Laptops can be held in a warehouse at a cost of \\\\$15 for each laptop in inventory at the end of a month. The warehouse can hold at most 400 laptops. \n",
    "\n",
    "Laptops made during a month may be used to meet demand for that month or any future month. Manufacturing constraints require that laptops be produced in multiples of 100, and at most 300 laptops can be produced in any month.  The company's goal is to find a production plan that will meet all demands on time and minimizes its total production and holding costs over the next 3 months.\n",
    "\n",
    "Formulate this problem as a dynamic program by giving its shortest/longest path representation.\n",
    "\n",
    "Once upon a time, for homework, you formulated this problem as a dynamic program by giving its shortest/longest path representation.\n",
    "\n",
    "1. Solve your dynamic program using NetworkX.\n",
    "2. Interpret the output of your dynamic program."
   ]
  },
  {
   "cell_type": "code",
   "execution_count": null,
   "metadata": {},
   "outputs": [],
   "source": []
  },
  {
   "cell_type": "code",
   "execution_count": 14,
   "metadata": {
    "tags": [
     "solution"
    ]
   },
   "outputs": [
    {
     "name": "stdout",
     "output_type": "stream",
     "text": [
      "Negative cycle? False\n",
      "Shortest path length = 81500\n",
      "Shortest path = [(1, 0), (2, 0), (3, 0), (4, 0), 'end']\n"
     ]
    }
   ],
   "source": [
    "# Solution\n",
    "# Create empty graph\n",
    "G = nx.DiGraph()\n",
    "\n",
    "# Add stage-state nodes\n",
    "for t in range(1, 5):\n",
    "    for n in range(0, 5):\n",
    "        G.add_node((t, n))\n",
    "\n",
    "# Add \"end\" node\n",
    "G.add_node(\"end\")\n",
    "\n",
    "# Month 1\n",
    "# Production amount = 0\n",
    "for n in range(2, 5):\n",
    "    G.add_edge((1, n), (2, n - 2), length=15*100*(n - 2))\n",
    "\n",
    "# Production amount = 100\n",
    "for n in range(1, 5):\n",
    "    G.add_edge((1, n), (2, n - 1), length=2500 + 100*100 + 15*100*(n - 1))\n",
    "\n",
    "# Production amount = 200\n",
    "for n in range(0, 5):\n",
    "    G.add_edge((1, n), (2, n), length=2500 + 100*200 + 15*100*n)\n",
    "\n",
    "# Production amount = 300\n",
    "for n in range(0, 4):\n",
    "    G.add_edge((1, n), (2, n + 1), length=2500 + 100*300 + 15*100*(n + 1))\n",
    "\n",
    "# Month 2\n",
    "# Production amount = 0\n",
    "for n in range(3, 5):\n",
    "    G.add_edge((2, n), (3, n - 3), length=15*100*(n - 3))\n",
    "\n",
    "# Production amount = 100\n",
    "for n in range(2, 5):\n",
    "    G.add_edge((2, n), (3, n - 2), length=2500 + 100*100 + 15*100*(n - 2))\n",
    "\n",
    "# Production amount = 200\n",
    "for n in range(1, 5):\n",
    "    G.add_edge((2, n), (3, n - 1), length=2500 + 100*200 + 15*100*(n - 1))\n",
    "\n",
    "# Production amount = 300\n",
    "for n in range(0, 5):\n",
    "    G.add_edge((2, n), (3, n), length=2500 + 100*300 + 15*100*n)\n",
    "\n",
    "# Month 3\n",
    "# Production amount = 0\n",
    "for n in range(2, 5):\n",
    "    G.add_edge((3, n), (4, n - 2), length=15*100*(n - 2))\n",
    "\n",
    "# Production amount = 100\n",
    "for n in range(1, 5):\n",
    "    G.add_edge((3, n), (4, n - 1), length=2500 + 120*100 + 15*100*(n - 1))\n",
    "\n",
    "# Production amount = 200\n",
    "for n in range(0, 5):\n",
    "    G.add_edge((3, n), (4, n), length=2500 + 120*200 + 15*100*n)\n",
    "\n",
    "# Production amount = 300\n",
    "for n in range(0, 4):\n",
    "    G.add_edge((3, n), (4, n + 1), length=2500 + 120*300 + 15*100*(n + 1))\n",
    "\n",
    "# Add edges from last stage to end node\n",
    "for n in range(0, 5):\n",
    "    G.add_edge((4, n), \"end\", length=0)\n",
    "\n",
    "# Solve shortest path problem\n",
    "length, nodes, negative_cycle = bf.bellman_ford(G, source=(1,0), target=\"end\", weight=\"length\")\n",
    "print(f\"Negative cycle? {negative_cycle}\")\n",
    "print(f\"Shortest path length = {length}\")\n",
    "print(f\"Shortest path = {nodes}\")"
   ]
  },
  {
   "cell_type": "markdown",
   "metadata": {},
   "source": [
    "_Interpret the output of the DP here. Double-click to edit._"
   ]
  },
  {
   "cell_type": "markdown",
   "metadata": {
    "tags": [
     "solution"
    ]
   },
   "source": [
    "_Solution &mdash; Interpretation._\n",
    "\n",
    "* The minimum production and holding cost required to meet demand over the next 3 months is 81,500, which is the shortest path length in this case.\n",
    "\n",
    "* In order to meet this minimum total cost, the company should produce 200 in month 1, produce 300 in month 2, and produce 200 in month 3."
   ]
  }
 ],
 "metadata": {
  "kernelspec": {
   "display_name": "Python 3 (ipykernel)",
   "language": "python",
   "name": "python3"
  },
  "language_info": {
   "codemirror_mode": {
    "name": "ipython",
    "version": 3
   },
   "file_extension": ".py",
   "mimetype": "text/x-python",
   "name": "python",
   "nbconvert_exporter": "python",
   "pygments_lexer": "ipython3",
   "version": "3.8.10"
  },
  "latex_metadata": {
   "title": "Lesson 8. Solving Dynamic Programs with networkx"
  }
 },
 "nbformat": 4,
 "nbformat_minor": 4
}
